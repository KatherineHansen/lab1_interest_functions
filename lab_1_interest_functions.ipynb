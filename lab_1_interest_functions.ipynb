{
  "nbformat": 4,
  "nbformat_minor": 0,
  "metadata": {
    "kernelspec": {
      "display_name": "Python 3",
      "language": "python",
      "name": "python3"
    },
    "language_info": {
      "codemirror_mode": {
        "name": "ipython",
        "version": 3
      },
      "file_extension": ".py",
      "mimetype": "text/x-python",
      "name": "python",
      "nbconvert_exporter": "python",
      "pygments_lexer": "ipython3",
      "version": "3.7.2"
    },
    "colab": {
      "name": "lab_1_interest_functions.ipynb",
      "provenance": [],
      "include_colab_link": true
    }
  },
  "cells": [
    {
      "cell_type": "markdown",
      "metadata": {
        "id": "view-in-github",
        "colab_type": "text"
      },
      "source": [
        "<a href=\"https://colab.research.google.com/github/KatherineHansen/lab1_interest_functions/blob/master/lab_1_interest_functions.ipynb\" target=\"_parent\"><img src=\"https://colab.research.google.com/assets/colab-badge.svg\" alt=\"Open In Colab\"/></a>"
      ]
    },
    {
      "cell_type": "markdown",
      "metadata": {
        "id": "BhMb1QB5tuSi",
        "colab_type": "text"
      },
      "source": [
        "## Lab 1 - Compound Interest Functions\n",
        "\n",
        "Below you will find a table of important formulae related to compound interest.  \n",
        "\n",
        "<img src=\"https://www.dummies.com/wp-content/uploads/251689.image0.jpg\" alt=\"image0.jpg\" width=\"400\" height=\"319\">\n",
        "\n",
        "In this lab, you will create functions for each of these using (and documenting) the following workflow.\n",
        "\n",
        "1. Work out the correct answer for a few examples. *Hint* Search for e.g. \"worked out compound interest examples\" on the web.\n",
        "2. Write a `lambda` function and test this function on your test cases.\n",
        "3. Convert the `lambda` function to a `def` statement with an informative doc string that follows the [Google formating rules](https://google.github.io/styleguide/pyguide.html#383-functions-and-methods).\n",
        "4. Write an automated test function (using your previous examples) that will test your `def` statement function each time the code is executed."
      ]
    },
    {
      "cell_type": "markdown",
      "metadata": {
        "id": "fDOacA2stuSi",
        "colab_type": "text"
      },
      "source": [
        "#### Problem 1 -- Apply the process to create a simple interest functions."
      ]
    },
    {
      "cell_type": "code",
      "metadata": {
        "id": "_4-N-0DxtuSk",
        "colab_type": "code",
        "colab": {}
      },
      "source": [
        "Simple_interest = lambda P, r, t : P*r*t"
      ],
      "execution_count": null,
      "outputs": []
    },
    {
      "cell_type": "code",
      "metadata": {
        "id": "YoGvUiMruPbk",
        "colab_type": "code",
        "colab": {
          "base_uri": "https://localhost:8080/",
          "height": 35
        },
        "outputId": "aea7072e-46c5-4bdc-e4f1-ccd881b27f00"
      },
      "source": [
        "Simple_interest(1000,.05,10)"
      ],
      "execution_count": null,
      "outputs": [
        {
          "output_type": "execute_result",
          "data": {
            "text/plain": [
              "500.0"
            ]
          },
          "metadata": {
            "tags": []
          },
          "execution_count": 14
        }
      ]
    },
    {
      "cell_type": "code",
      "metadata": {
        "id": "D2YcTtKvwECY",
        "colab_type": "code",
        "colab": {}
      },
      "source": [
        "def simple_interest(P, r, t):\n",
        "    \"\"\"Calculates simple interest\n",
        "    \n",
        "    Args:\n",
        "      P: Principle\n",
        "      r: rate as percent\n",
        "      t: time in years\n",
        "      \n",
        "    Returns:\n",
        "      The simple interest accrued\n",
        "    \"\"\"\n",
        "    output=P*r*t\n",
        "    return output"
      ],
      "execution_count": null,
      "outputs": []
    },
    {
      "cell_type": "code",
      "metadata": {
        "id": "KWWRfoVxwiqr",
        "colab_type": "code",
        "colab": {
          "base_uri": "https://localhost:8080/",
          "height": 35
        },
        "outputId": "28ff3a8d-9d5e-415d-bdb2-f74746057b5f"
      },
      "source": [
        "simple_interest(1000,.05,10)"
      ],
      "execution_count": null,
      "outputs": [
        {
          "output_type": "execute_result",
          "data": {
            "text/plain": [
              "500.0"
            ]
          },
          "metadata": {
            "tags": []
          },
          "execution_count": 16
        }
      ]
    },
    {
      "cell_type": "code",
      "metadata": {
        "id": "3NAjRaETwmGF",
        "colab_type": "code",
        "colab": {}
      },
      "source": [
        "def test_simple_interest():\n",
        "    assert simple_interest(1000,.05,10) == 500\n",
        "    assert simple_interest(0,.05,10) == 0\n",
        "    assert simple_interest(1000,0,10) == 0\n",
        "    assert simple_interest(1000,.05,0) == 0\n",
        "test_simple_interest() # Silence is golden!"
      ],
      "execution_count": null,
      "outputs": []
    },
    {
      "cell_type": "markdown",
      "metadata": {
        "id": "fR2A5HV4tuSo",
        "colab_type": "text"
      },
      "source": [
        "#### Problem 2 -- Apply the process to create a compound interest functions."
      ]
    },
    {
      "cell_type": "code",
      "metadata": {
        "id": "0ckR4XJAtuSp",
        "colab_type": "code",
        "colab": {}
      },
      "source": [
        "Compound_interest = lambda P, r, n, t : P*((1+(r/n))**(n*t))"
      ],
      "execution_count": null,
      "outputs": []
    },
    {
      "cell_type": "code",
      "metadata": {
        "id": "moE1GLHPyhRm",
        "colab_type": "code",
        "colab": {
          "base_uri": "https://localhost:8080/",
          "height": 35
        },
        "outputId": "f304ad93-1da7-45e1-b95c-f40cd15091ea"
      },
      "source": [
        "Compound_interest(1000,.05,12,10)"
      ],
      "execution_count": null,
      "outputs": [
        {
          "output_type": "execute_result",
          "data": {
            "text/plain": [
              "1647.00949769028"
            ]
          },
          "metadata": {
            "tags": []
          },
          "execution_count": 39
        }
      ]
    },
    {
      "cell_type": "code",
      "metadata": {
        "id": "jAkvEA_UyuL1",
        "colab_type": "code",
        "colab": {}
      },
      "source": [
        "def compound_interest(P,r,n,t) :\n",
        "    \"\"\"Calculates compound interest\n",
        "\n",
        "    Args:\n",
        "      P: Principal\n",
        "      r: rate in percent\n",
        "      n: compoundings\n",
        "      t: time in years\n",
        "\n",
        "    Returns:\n",
        "      Amount including accrued compounding interest\n",
        "    \"\"\"\n",
        "    output = P*((1+(r/n))**(n*t))\n",
        "    return output"
      ],
      "execution_count": null,
      "outputs": []
    },
    {
      "cell_type": "code",
      "metadata": {
        "id": "ooYLJd7n1wAx",
        "colab_type": "code",
        "colab": {}
      },
      "source": [
        "def test_compound_interest():\n",
        "    assert compound_interest(1000,.05,12,10) == 1647.00949769028\n",
        "    assert compound_interest(0,.05,12,10) == 0\n",
        "    assert compound_interest(1000,0,12,10) == 1000\n",
        "\n",
        "    assert compound_interest(1000,.05,12,0) == 1000\n",
        "test_compound_interest() "
      ],
      "execution_count": null,
      "outputs": []
    },
    {
      "cell_type": "markdown",
      "metadata": {
        "id": "3NCDPojctuSs",
        "colab_type": "text"
      },
      "source": [
        "#### Problem 3 -- Apply the process to create a amortized loan payment function."
      ]
    },
    {
      "cell_type": "code",
      "metadata": {
        "id": "UaYX2LXEtuSt",
        "colab_type": "code",
        "colab": {}
      },
      "source": [
        "Amortized_loan_payment = lambda P, i, n : (P*i)/(1-((1+i)**-n))"
      ],
      "execution_count": null,
      "outputs": []
    },
    {
      "cell_type": "code",
      "metadata": {
        "id": "AiWAjRL13RCv",
        "colab_type": "code",
        "colab": {
          "base_uri": "https://localhost:8080/",
          "height": 35
        },
        "outputId": "b5af6fb9-fa87-4053-e7b4-3b70caaa7035"
      },
      "source": [
        "Amortized_loan_payment(1000,.05,12)"
      ],
      "execution_count": null,
      "outputs": [
        {
          "output_type": "execute_result",
          "data": {
            "text/plain": [
              "112.82541002081534"
            ]
          },
          "metadata": {
            "tags": []
          },
          "execution_count": 76
        }
      ]
    },
    {
      "cell_type": "code",
      "metadata": {
        "id": "O2iQn3hV4gkW",
        "colab_type": "code",
        "colab": {}
      },
      "source": [
        "def amortized_loan_payment(P,i,n) :\n",
        "    \"\"\"Calculates amortized loan payments\n",
        "\n",
        "    Args:\n",
        "      P: Principal\n",
        "      i: interest rate per period as percent\n",
        "      n: number of payments\n",
        "\n",
        "    Returns:\n",
        "      loan payments per period\n",
        "    \"\"\"\n",
        "    output = (P*i)/(1-((1+i)**-n))\n",
        "    return output"
      ],
      "execution_count": null,
      "outputs": []
    },
    {
      "cell_type": "code",
      "metadata": {
        "id": "Mh2pewaO7rw3",
        "colab_type": "code",
        "colab": {}
      },
      "source": [
        "def test_amortized_loan_payment():\n",
        "    assert amortized_loan_payment(1000,.05,12) == 112.82541002081534\n",
        "    assert amortized_loan_payment(0,.05,12) == 0\n",
        "test_amortized_loan_payment() "
      ],
      "execution_count": null,
      "outputs": []
    },
    {
      "cell_type": "markdown",
      "metadata": {
        "id": "6l3nwJPrtuSv",
        "colab_type": "text"
      },
      "source": [
        "#### Problem 4 -- Apply the process to create a remaining balance function"
      ]
    },
    {
      "cell_type": "code",
      "metadata": {
        "id": "n_-GSNrUtuSw",
        "colab_type": "code",
        "colab": {}
      },
      "source": [
        "Remaining_balance = lambda R,i,n,x : R*((1-((1+i)**-(n-x)))/i)"
      ],
      "execution_count": null,
      "outputs": []
    },
    {
      "cell_type": "code",
      "metadata": {
        "id": "Eimt6L5K8PWY",
        "colab_type": "code",
        "colab": {
          "base_uri": "https://localhost:8080/",
          "height": 35
        },
        "outputId": "51144960-6250-4cf4-95b8-c12adcbefc1c"
      },
      "source": [
        "Remaining_balance(100,.05,12,10)"
      ],
      "execution_count": null,
      "outputs": [
        {
          "output_type": "execute_result",
          "data": {
            "text/plain": [
              "185.94104308390035"
            ]
          },
          "metadata": {
            "tags": []
          },
          "execution_count": 91
        }
      ]
    },
    {
      "cell_type": "code",
      "metadata": {
        "id": "9I5wE_u--N8q",
        "colab_type": "code",
        "colab": {}
      },
      "source": [
        "def remaining_balance(R,i,n,x) : \n",
        "    \"\"\"Calculates the remaining balance of loan\n",
        "\n",
        "    Args:\n",
        "      R: regular payment \n",
        "      i: interest per pay period\n",
        "      n: number of payments\n",
        "      x: number of payments already payed\n",
        "\n",
        "    Returns:\n",
        "      remaining balance\n",
        "    \"\"\"\n",
        "    output = R*((1-((1+i)**-(n-x)))/i)\n",
        "    return output"
      ],
      "execution_count": null,
      "outputs": []
    },
    {
      "cell_type": "code",
      "metadata": {
        "id": "u46V0Qk1IiLm",
        "colab_type": "code",
        "colab": {}
      },
      "source": [
        "def test_remaining_balance():\n",
        "    assert remaining_balance(100,.05,12,10) == 185.94104308390035\n",
        "    assert remaining_balance(100,.05,12,0) == 886.3251636448814\n",
        "test_remaining_balance()"
      ],
      "execution_count": null,
      "outputs": []
    },
    {
      "cell_type": "code",
      "metadata": {
        "id": "RGNpuQWGKeV2",
        "colab_type": "code",
        "colab": {}
      },
      "source": [
        ""
      ],
      "execution_count": null,
      "outputs": []
    }
  ]
}